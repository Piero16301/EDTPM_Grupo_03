{
 "cells": [
  {
   "cell_type": "code",
   "execution_count": 1,
   "outputs": [],
   "source": [
    "import pandas as pd\n",
    "\n",
    "df = pd.read_csv('./OutEnv-hour.csv')"
   ],
   "metadata": {
    "collapsed": false,
    "pycharm": {
     "name": "#%%\n"
    }
   }
  },
  {
   "cell_type": "code",
   "execution_count": 2,
   "outputs": [
    {
     "data": {
      "text/plain": "                      Timestamp  OutEnv_OutdoorAmbTemp  \\\n0     2013-07-01 00:00:00-04:00              23.073361   \n1     2013-07-01 01:00:00-04:00              22.756410   \n2     2013-07-01 02:00:00-04:00              22.456030   \n3     2013-07-01 03:00:00-04:00              22.169376   \n4     2013-07-01 04:00:00-04:00              21.852205   \n...                         ...                    ...   \n8756  2014-06-30 20:00:00-04:00              27.839133   \n8757  2014-06-30 21:00:00-04:00              26.986160   \n8758  2014-06-30 22:00:00-04:00              26.288886   \n8759  2014-06-30 23:00:00-04:00              25.783590   \n8760  2014-07-01 00:00:00-04:00              25.322551   \n\n      OutEnv_RooftopWindDirection  OutEnv_RooftopWindSpeed  \n0                      194.728814                 2.155932  \n1                      175.283333                 1.813333  \n2                      191.433333                 2.123333  \n3                      195.000000                 1.920000  \n4                      167.116667                 1.788333  \n...                           ...                      ...  \n8756                   189.316667                 2.435000  \n8757                   186.550000                 2.385000  \n8758                   170.983333                 2.146667  \n8759                   175.030303                 1.703030  \n8760                   183.000000                 3.400000  \n\n[8761 rows x 4 columns]",
      "text/html": "<div>\n<style scoped>\n    .dataframe tbody tr th:only-of-type {\n        vertical-align: middle;\n    }\n\n    .dataframe tbody tr th {\n        vertical-align: top;\n    }\n\n    .dataframe thead th {\n        text-align: right;\n    }\n</style>\n<table border=\"1\" class=\"dataframe\">\n  <thead>\n    <tr style=\"text-align: right;\">\n      <th></th>\n      <th>Timestamp</th>\n      <th>OutEnv_OutdoorAmbTemp</th>\n      <th>OutEnv_RooftopWindDirection</th>\n      <th>OutEnv_RooftopWindSpeed</th>\n    </tr>\n  </thead>\n  <tbody>\n    <tr>\n      <th>0</th>\n      <td>2013-07-01 00:00:00-04:00</td>\n      <td>23.073361</td>\n      <td>194.728814</td>\n      <td>2.155932</td>\n    </tr>\n    <tr>\n      <th>1</th>\n      <td>2013-07-01 01:00:00-04:00</td>\n      <td>22.756410</td>\n      <td>175.283333</td>\n      <td>1.813333</td>\n    </tr>\n    <tr>\n      <th>2</th>\n      <td>2013-07-01 02:00:00-04:00</td>\n      <td>22.456030</td>\n      <td>191.433333</td>\n      <td>2.123333</td>\n    </tr>\n    <tr>\n      <th>3</th>\n      <td>2013-07-01 03:00:00-04:00</td>\n      <td>22.169376</td>\n      <td>195.000000</td>\n      <td>1.920000</td>\n    </tr>\n    <tr>\n      <th>4</th>\n      <td>2013-07-01 04:00:00-04:00</td>\n      <td>21.852205</td>\n      <td>167.116667</td>\n      <td>1.788333</td>\n    </tr>\n    <tr>\n      <th>...</th>\n      <td>...</td>\n      <td>...</td>\n      <td>...</td>\n      <td>...</td>\n    </tr>\n    <tr>\n      <th>8756</th>\n      <td>2014-06-30 20:00:00-04:00</td>\n      <td>27.839133</td>\n      <td>189.316667</td>\n      <td>2.435000</td>\n    </tr>\n    <tr>\n      <th>8757</th>\n      <td>2014-06-30 21:00:00-04:00</td>\n      <td>26.986160</td>\n      <td>186.550000</td>\n      <td>2.385000</td>\n    </tr>\n    <tr>\n      <th>8758</th>\n      <td>2014-06-30 22:00:00-04:00</td>\n      <td>26.288886</td>\n      <td>170.983333</td>\n      <td>2.146667</td>\n    </tr>\n    <tr>\n      <th>8759</th>\n      <td>2014-06-30 23:00:00-04:00</td>\n      <td>25.783590</td>\n      <td>175.030303</td>\n      <td>1.703030</td>\n    </tr>\n    <tr>\n      <th>8760</th>\n      <td>2014-07-01 00:00:00-04:00</td>\n      <td>25.322551</td>\n      <td>183.000000</td>\n      <td>3.400000</td>\n    </tr>\n  </tbody>\n</table>\n<p>8761 rows × 4 columns</p>\n</div>"
     },
     "execution_count": 2,
     "metadata": {},
     "output_type": "execute_result"
    }
   ],
   "source": [
    "df"
   ],
   "metadata": {
    "collapsed": false,
    "pycharm": {
     "name": "#%%\n"
    }
   }
  },
  {
   "cell_type": "code",
   "execution_count": 3,
   "outputs": [
    {
     "data": {
      "text/plain": "0       23.073361\n1       22.756410\n2       22.456030\n3       22.169376\n4       21.852205\n          ...    \n8756    27.839133\n8757    26.986160\n8758    26.288886\n8759    25.783590\n8760    25.322551\nName: OutEnv_OutdoorAmbTemp, Length: 8761, dtype: float64"
     },
     "execution_count": 3,
     "metadata": {},
     "output_type": "execute_result"
    }
   ],
   "source": [
    "df['OutEnv_OutdoorAmbTemp']"
   ],
   "metadata": {
    "collapsed": false,
    "pycharm": {
     "name": "#%%\n"
    }
   }
  },
  {
   "cell_type": "code",
   "execution_count": 4,
   "outputs": [],
   "source": [
    "df['New_OutEnv_OutdoorAmbTemp'] = round(df['OutEnv_OutdoorAmbTemp'],0)"
   ],
   "metadata": {
    "collapsed": false,
    "pycharm": {
     "name": "#%%\n"
    }
   }
  },
  {
   "cell_type": "code",
   "execution_count": 5,
   "outputs": [
    {
     "data": {
      "text/plain": "0       23.0\n1       23.0\n2       22.0\n3       22.0\n4       22.0\n        ... \n8756    28.0\n8757    27.0\n8758    26.0\n8759    26.0\n8760    25.0\nName: New_OutEnv_OutdoorAmbTemp, Length: 8761, dtype: float64"
     },
     "execution_count": 5,
     "metadata": {},
     "output_type": "execute_result"
    }
   ],
   "source": [
    "df['New_OutEnv_OutdoorAmbTemp']"
   ],
   "metadata": {
    "collapsed": false,
    "pycharm": {
     "name": "#%%\n"
    }
   }
  },
  {
   "cell_type": "code",
   "execution_count": 6,
   "outputs": [],
   "source": [
    "df_new = df.loc[(df['Timestamp'] >= '2013-07-01') & (df['Timestamp'] < '2013-08-01')]"
   ],
   "metadata": {
    "collapsed": false,
    "pycharm": {
     "name": "#%%\n"
    }
   }
  },
  {
   "cell_type": "code",
   "execution_count": 7,
   "outputs": [
    {
     "data": {
      "text/plain": "                     Timestamp  OutEnv_OutdoorAmbTemp  \\\n0    2013-07-01 00:00:00-04:00              23.073361   \n1    2013-07-01 01:00:00-04:00              22.756410   \n2    2013-07-01 02:00:00-04:00              22.456030   \n3    2013-07-01 03:00:00-04:00              22.169376   \n4    2013-07-01 04:00:00-04:00              21.852205   \n..                         ...                    ...   \n739  2013-07-31 19:00:00-04:00              25.078779   \n740  2013-07-31 20:00:00-04:00              23.494916   \n741  2013-07-31 21:00:00-04:00              21.433129   \n742  2013-07-31 22:00:00-04:00              20.909009   \n743  2013-07-31 23:00:00-04:00              20.736279   \n\n     OutEnv_RooftopWindDirection  OutEnv_RooftopWindSpeed  \\\n0                     194.728814                 2.155932   \n1                     175.283333                 1.813333   \n2                     191.433333                 2.123333   \n3                     195.000000                 1.920000   \n4                     167.116667                 1.788333   \n..                           ...                      ...   \n739                   177.633333                 2.363333   \n740                   175.733333                 3.925000   \n741                   205.450000                 2.726667   \n742                   209.516667                 2.415000   \n743                   198.949153                 2.967797   \n\n     New_OutEnv_OutdoorAmbTemp  \n0                         23.0  \n1                         23.0  \n2                         22.0  \n3                         22.0  \n4                         22.0  \n..                         ...  \n739                       25.0  \n740                       23.0  \n741                       21.0  \n742                       21.0  \n743                       21.0  \n\n[744 rows x 5 columns]",
      "text/html": "<div>\n<style scoped>\n    .dataframe tbody tr th:only-of-type {\n        vertical-align: middle;\n    }\n\n    .dataframe tbody tr th {\n        vertical-align: top;\n    }\n\n    .dataframe thead th {\n        text-align: right;\n    }\n</style>\n<table border=\"1\" class=\"dataframe\">\n  <thead>\n    <tr style=\"text-align: right;\">\n      <th></th>\n      <th>Timestamp</th>\n      <th>OutEnv_OutdoorAmbTemp</th>\n      <th>OutEnv_RooftopWindDirection</th>\n      <th>OutEnv_RooftopWindSpeed</th>\n      <th>New_OutEnv_OutdoorAmbTemp</th>\n    </tr>\n  </thead>\n  <tbody>\n    <tr>\n      <th>0</th>\n      <td>2013-07-01 00:00:00-04:00</td>\n      <td>23.073361</td>\n      <td>194.728814</td>\n      <td>2.155932</td>\n      <td>23.0</td>\n    </tr>\n    <tr>\n      <th>1</th>\n      <td>2013-07-01 01:00:00-04:00</td>\n      <td>22.756410</td>\n      <td>175.283333</td>\n      <td>1.813333</td>\n      <td>23.0</td>\n    </tr>\n    <tr>\n      <th>2</th>\n      <td>2013-07-01 02:00:00-04:00</td>\n      <td>22.456030</td>\n      <td>191.433333</td>\n      <td>2.123333</td>\n      <td>22.0</td>\n    </tr>\n    <tr>\n      <th>3</th>\n      <td>2013-07-01 03:00:00-04:00</td>\n      <td>22.169376</td>\n      <td>195.000000</td>\n      <td>1.920000</td>\n      <td>22.0</td>\n    </tr>\n    <tr>\n      <th>4</th>\n      <td>2013-07-01 04:00:00-04:00</td>\n      <td>21.852205</td>\n      <td>167.116667</td>\n      <td>1.788333</td>\n      <td>22.0</td>\n    </tr>\n    <tr>\n      <th>...</th>\n      <td>...</td>\n      <td>...</td>\n      <td>...</td>\n      <td>...</td>\n      <td>...</td>\n    </tr>\n    <tr>\n      <th>739</th>\n      <td>2013-07-31 19:00:00-04:00</td>\n      <td>25.078779</td>\n      <td>177.633333</td>\n      <td>2.363333</td>\n      <td>25.0</td>\n    </tr>\n    <tr>\n      <th>740</th>\n      <td>2013-07-31 20:00:00-04:00</td>\n      <td>23.494916</td>\n      <td>175.733333</td>\n      <td>3.925000</td>\n      <td>23.0</td>\n    </tr>\n    <tr>\n      <th>741</th>\n      <td>2013-07-31 21:00:00-04:00</td>\n      <td>21.433129</td>\n      <td>205.450000</td>\n      <td>2.726667</td>\n      <td>21.0</td>\n    </tr>\n    <tr>\n      <th>742</th>\n      <td>2013-07-31 22:00:00-04:00</td>\n      <td>20.909009</td>\n      <td>209.516667</td>\n      <td>2.415000</td>\n      <td>21.0</td>\n    </tr>\n    <tr>\n      <th>743</th>\n      <td>2013-07-31 23:00:00-04:00</td>\n      <td>20.736279</td>\n      <td>198.949153</td>\n      <td>2.967797</td>\n      <td>21.0</td>\n    </tr>\n  </tbody>\n</table>\n<p>744 rows × 5 columns</p>\n</div>"
     },
     "execution_count": 7,
     "metadata": {},
     "output_type": "execute_result"
    }
   ],
   "source": [
    "df_new"
   ],
   "metadata": {
    "collapsed": false,
    "pycharm": {
     "name": "#%%\n"
    }
   }
  },
  {
   "cell_type": "code",
   "execution_count": 8,
   "outputs": [
    {
     "data": {
      "text/plain": "21"
     },
     "execution_count": 8,
     "metadata": {},
     "output_type": "execute_result"
    }
   ],
   "source": [
    "len(df_new['New_OutEnv_OutdoorAmbTemp'].unique())"
   ],
   "metadata": {
    "collapsed": false,
    "pycharm": {
     "name": "#%%\n"
    }
   }
  },
  {
   "cell_type": "code",
   "execution_count": 9,
   "outputs": [],
   "source": [
    "c = []\n",
    "for i in df_new['Timestamp']:\n",
    "    c.append(i[8:10])"
   ],
   "metadata": {
    "collapsed": false,
    "pycharm": {
     "name": "#%%\n"
    }
   }
  },
  {
   "cell_type": "code",
   "execution_count": 10,
   "outputs": [],
   "source": [
    "df_new.insert(5, 'day', c, True)"
   ],
   "metadata": {
    "collapsed": false,
    "pycharm": {
     "name": "#%%\n"
    }
   }
  },
  {
   "cell_type": "code",
   "execution_count": 11,
   "outputs": [
    {
     "data": {
      "text/plain": "                     Timestamp  OutEnv_OutdoorAmbTemp  \\\n0    2013-07-01 00:00:00-04:00              23.073361   \n1    2013-07-01 01:00:00-04:00              22.756410   \n2    2013-07-01 02:00:00-04:00              22.456030   \n3    2013-07-01 03:00:00-04:00              22.169376   \n4    2013-07-01 04:00:00-04:00              21.852205   \n..                         ...                    ...   \n739  2013-07-31 19:00:00-04:00              25.078779   \n740  2013-07-31 20:00:00-04:00              23.494916   \n741  2013-07-31 21:00:00-04:00              21.433129   \n742  2013-07-31 22:00:00-04:00              20.909009   \n743  2013-07-31 23:00:00-04:00              20.736279   \n\n     OutEnv_RooftopWindDirection  OutEnv_RooftopWindSpeed  \\\n0                     194.728814                 2.155932   \n1                     175.283333                 1.813333   \n2                     191.433333                 2.123333   \n3                     195.000000                 1.920000   \n4                     167.116667                 1.788333   \n..                           ...                      ...   \n739                   177.633333                 2.363333   \n740                   175.733333                 3.925000   \n741                   205.450000                 2.726667   \n742                   209.516667                 2.415000   \n743                   198.949153                 2.967797   \n\n     New_OutEnv_OutdoorAmbTemp day  \n0                         23.0  01  \n1                         23.0  01  \n2                         22.0  01  \n3                         22.0  01  \n4                         22.0  01  \n..                         ...  ..  \n739                       25.0  31  \n740                       23.0  31  \n741                       21.0  31  \n742                       21.0  31  \n743                       21.0  31  \n\n[744 rows x 6 columns]",
      "text/html": "<div>\n<style scoped>\n    .dataframe tbody tr th:only-of-type {\n        vertical-align: middle;\n    }\n\n    .dataframe tbody tr th {\n        vertical-align: top;\n    }\n\n    .dataframe thead th {\n        text-align: right;\n    }\n</style>\n<table border=\"1\" class=\"dataframe\">\n  <thead>\n    <tr style=\"text-align: right;\">\n      <th></th>\n      <th>Timestamp</th>\n      <th>OutEnv_OutdoorAmbTemp</th>\n      <th>OutEnv_RooftopWindDirection</th>\n      <th>OutEnv_RooftopWindSpeed</th>\n      <th>New_OutEnv_OutdoorAmbTemp</th>\n      <th>day</th>\n    </tr>\n  </thead>\n  <tbody>\n    <tr>\n      <th>0</th>\n      <td>2013-07-01 00:00:00-04:00</td>\n      <td>23.073361</td>\n      <td>194.728814</td>\n      <td>2.155932</td>\n      <td>23.0</td>\n      <td>01</td>\n    </tr>\n    <tr>\n      <th>1</th>\n      <td>2013-07-01 01:00:00-04:00</td>\n      <td>22.756410</td>\n      <td>175.283333</td>\n      <td>1.813333</td>\n      <td>23.0</td>\n      <td>01</td>\n    </tr>\n    <tr>\n      <th>2</th>\n      <td>2013-07-01 02:00:00-04:00</td>\n      <td>22.456030</td>\n      <td>191.433333</td>\n      <td>2.123333</td>\n      <td>22.0</td>\n      <td>01</td>\n    </tr>\n    <tr>\n      <th>3</th>\n      <td>2013-07-01 03:00:00-04:00</td>\n      <td>22.169376</td>\n      <td>195.000000</td>\n      <td>1.920000</td>\n      <td>22.0</td>\n      <td>01</td>\n    </tr>\n    <tr>\n      <th>4</th>\n      <td>2013-07-01 04:00:00-04:00</td>\n      <td>21.852205</td>\n      <td>167.116667</td>\n      <td>1.788333</td>\n      <td>22.0</td>\n      <td>01</td>\n    </tr>\n    <tr>\n      <th>...</th>\n      <td>...</td>\n      <td>...</td>\n      <td>...</td>\n      <td>...</td>\n      <td>...</td>\n      <td>...</td>\n    </tr>\n    <tr>\n      <th>739</th>\n      <td>2013-07-31 19:00:00-04:00</td>\n      <td>25.078779</td>\n      <td>177.633333</td>\n      <td>2.363333</td>\n      <td>25.0</td>\n      <td>31</td>\n    </tr>\n    <tr>\n      <th>740</th>\n      <td>2013-07-31 20:00:00-04:00</td>\n      <td>23.494916</td>\n      <td>175.733333</td>\n      <td>3.925000</td>\n      <td>23.0</td>\n      <td>31</td>\n    </tr>\n    <tr>\n      <th>741</th>\n      <td>2013-07-31 21:00:00-04:00</td>\n      <td>21.433129</td>\n      <td>205.450000</td>\n      <td>2.726667</td>\n      <td>21.0</td>\n      <td>31</td>\n    </tr>\n    <tr>\n      <th>742</th>\n      <td>2013-07-31 22:00:00-04:00</td>\n      <td>20.909009</td>\n      <td>209.516667</td>\n      <td>2.415000</td>\n      <td>21.0</td>\n      <td>31</td>\n    </tr>\n    <tr>\n      <th>743</th>\n      <td>2013-07-31 23:00:00-04:00</td>\n      <td>20.736279</td>\n      <td>198.949153</td>\n      <td>2.967797</td>\n      <td>21.0</td>\n      <td>31</td>\n    </tr>\n  </tbody>\n</table>\n<p>744 rows × 6 columns</p>\n</div>"
     },
     "execution_count": 11,
     "metadata": {},
     "output_type": "execute_result"
    }
   ],
   "source": [
    "df_new"
   ],
   "metadata": {
    "collapsed": false,
    "pycharm": {
     "name": "#%%\n"
    }
   }
  },
  {
   "cell_type": "code",
   "execution_count": 12,
   "outputs": [],
   "source": [
    "# create new df\n",
    "dic = {}\n",
    "for i in df_new['New_OutEnv_OutdoorAmbTemp'].unique():\n",
    "    dic[i] = []"
   ],
   "metadata": {
    "collapsed": false,
    "pycharm": {
     "name": "#%%\n"
    }
   }
  },
  {
   "cell_type": "code",
   "execution_count": 13,
   "outputs": [
    {
     "data": {
      "text/plain": "0"
     },
     "execution_count": 13,
     "metadata": {},
     "output_type": "execute_result"
    }
   ],
   "source": [
    "df_new['OutEnv_OutdoorAmbTemp'].isnull().sum()"
   ],
   "metadata": {
    "collapsed": false,
    "pycharm": {
     "name": "#%%\n"
    }
   }
  },
  {
   "cell_type": "code",
   "execution_count": 14,
   "outputs": [],
   "source": [
    "import math\n",
    "for event in df_new.itertuples():\n",
    "    aux_eve = event[5]\n",
    "    if not math.isnan(aux_eve):\n",
    "        dic[aux_eve].append([event[6], event[0], event[1]])"
   ],
   "metadata": {
    "collapsed": false,
    "pycharm": {
     "name": "#%%\n"
    }
   }
  },
  {
   "cell_type": "code",
   "execution_count": 15,
   "outputs": [
    {
     "data": {
      "text/plain": "21"
     },
     "execution_count": 15,
     "metadata": {},
     "output_type": "execute_result"
    }
   ],
   "source": [
    "len(dic)"
   ],
   "metadata": {
    "collapsed": false,
    "pycharm": {
     "name": "#%%\n"
    }
   }
  },
  {
   "cell_type": "code",
   "execution_count": 16,
   "outputs": [],
   "source": [
    "bitmap = [ 30*\"0\" for i in range(len(dic))]"
   ],
   "metadata": {
    "collapsed": false,
    "pycharm": {
     "name": "#%%\n"
    }
   }
  },
  {
   "cell_type": "code",
   "execution_count": 17,
   "outputs": [],
   "source": [
    "dic2 = {}\n",
    "\n",
    "for key in dic:\n",
    "    s = list(31*'0')\n",
    "    for i in dic[key]:\n",
    "        s[int(i[0])-1] = '1'\n",
    "    dic2[key] = \"\".join(s)"
   ],
   "metadata": {
    "collapsed": false,
    "pycharm": {
     "name": "#%%\n"
    }
   }
  },
  {
   "cell_type": "code",
   "execution_count": 18,
   "outputs": [
    {
     "data": {
      "text/plain": "{23.0: '1111101111111010000011111111111',\n 22.0: '1010001100111000000001111111111',\n 24.0: '1111111111101110000111011111111',\n 26.0: '1111111111101111111111110111111',\n 27.0: '1111111110101101111011110111110',\n 25.0: '1111111111101111110111110101111',\n 28.0: '0101111111101111111111110111000',\n 29.0: '0011111111001111111101100000000',\n 30.0: '0001111101000111111111100000000',\n 31.0: '0001111001000111110110000000000',\n 32.0: '0000010000000011111100000000000',\n 21.0: '0000001100011000000000001111101',\n 20.0: '0000000000011000000000001011111',\n 19.0: '0000000000010000000000001100111',\n 33.0: '0000000000000011111100000000000',\n 34.0: '0000000000000010011000000000000',\n 35.0: '0000000000000000011000000000000',\n 18.0: '0000000000000000000000001100110',\n 17.0: '0000000000000000000000001100110',\n 16.0: '0000000000000000000000001000010',\n 15.0: '0000000000000000000000001000000'}"
     },
     "execution_count": 18,
     "metadata": {},
     "output_type": "execute_result"
    }
   ],
   "source": [
    "dic2"
   ],
   "metadata": {
    "collapsed": false,
    "pycharm": {
     "name": "#%%\n"
    }
   }
  },
  {
   "cell_type": "code",
   "execution_count": 19,
   "outputs": [],
   "source": [
    "df_dev = pd.DataFrame(columns = ['Event', 'TemporalSeqAndIntervals', 'Bitmap'])\n",
    "for key in dic:\n",
    "    new_row = pd.DataFrame([{'Event':key, 'TemporalSeqAndIntervals':dic[key], 'Bitmap':dic2[key]}])\n",
    "    df_dev = pd.concat([df_dev, new_row], axis=0, ignore_index=True)"
   ],
   "metadata": {
    "collapsed": false,
    "pycharm": {
     "name": "#%%\n"
    }
   }
  },
  {
   "cell_type": "code",
   "execution_count": 20,
   "outputs": [
    {
     "data": {
      "text/plain": "    Event                            TemporalSeqAndIntervals  \\\n0    23.0  [[01, 0, 2013-07-01 00:00:00-04:00], [01, 1, 2...   \n1    22.0  [[01, 2, 2013-07-01 02:00:00-04:00], [01, 3, 2...   \n2    24.0  [[01, 9, 2013-07-01 09:00:00-04:00], [01, 10, ...   \n3    26.0  [[01, 14, 2013-07-01 14:00:00-04:00], [01, 19,...   \n4    27.0  [[01, 15, 2013-07-01 15:00:00-04:00], [01, 16,...   \n5    25.0  [[01, 21, 2013-07-01 21:00:00-04:00], [01, 22,...   \n6    28.0  [[02, 37, 2013-07-02 13:00:00-04:00], [04, 84,...   \n7    29.0  [[03, 62, 2013-07-03 14:00:00-04:00], [03, 63,...   \n8    30.0  [[04, 86, 2013-07-04 14:00:00-04:00], [04, 87,...   \n9    31.0  [[04, 88, 2013-07-04 16:00:00-04:00], [05, 112...   \n10   32.0  [[06, 133, 2013-07-06 13:00:00-04:00], [06, 13...   \n11   21.0  [[07, 165, 2013-07-07 21:00:00-04:00], [07, 16...   \n12   20.0  [[12, 267, 2013-07-12 03:00:00-04:00], [12, 26...   \n13   19.0  [[12, 269, 2013-07-12 05:00:00-04:00], [12, 27...   \n14   33.0  [[15, 350, 2013-07-15 14:00:00-04:00], [15, 35...   \n15   34.0  [[15, 351, 2013-07-15 15:00:00-04:00], [15, 35...   \n16   35.0  [[18, 422, 2013-07-18 14:00:00-04:00], [18, 42...   \n17   18.0  [[25, 579, 2013-07-25 03:00:00-04:00], [25, 58...   \n18   17.0  [[25, 580, 2013-07-25 04:00:00-04:00], [25, 58...   \n19   16.0  [[25, 582, 2013-07-25 06:00:00-04:00], [30, 70...   \n20   15.0  [[25, 583, 2013-07-25 07:00:00-04:00], [25, 58...   \n\n                             Bitmap  \n0   1111101111111010000011111111111  \n1   1010001100111000000001111111111  \n2   1111111111101110000111011111111  \n3   1111111111101111111111110111111  \n4   1111111110101101111011110111110  \n5   1111111111101111110111110101111  \n6   0101111111101111111111110111000  \n7   0011111111001111111101100000000  \n8   0001111101000111111111100000000  \n9   0001111001000111110110000000000  \n10  0000010000000011111100000000000  \n11  0000001100011000000000001111101  \n12  0000000000011000000000001011111  \n13  0000000000010000000000001100111  \n14  0000000000000011111100000000000  \n15  0000000000000010011000000000000  \n16  0000000000000000011000000000000  \n17  0000000000000000000000001100110  \n18  0000000000000000000000001100110  \n19  0000000000000000000000001000010  \n20  0000000000000000000000001000000  ",
      "text/html": "<div>\n<style scoped>\n    .dataframe tbody tr th:only-of-type {\n        vertical-align: middle;\n    }\n\n    .dataframe tbody tr th {\n        vertical-align: top;\n    }\n\n    .dataframe thead th {\n        text-align: right;\n    }\n</style>\n<table border=\"1\" class=\"dataframe\">\n  <thead>\n    <tr style=\"text-align: right;\">\n      <th></th>\n      <th>Event</th>\n      <th>TemporalSeqAndIntervals</th>\n      <th>Bitmap</th>\n    </tr>\n  </thead>\n  <tbody>\n    <tr>\n      <th>0</th>\n      <td>23.0</td>\n      <td>[[01, 0, 2013-07-01 00:00:00-04:00], [01, 1, 2...</td>\n      <td>1111101111111010000011111111111</td>\n    </tr>\n    <tr>\n      <th>1</th>\n      <td>22.0</td>\n      <td>[[01, 2, 2013-07-01 02:00:00-04:00], [01, 3, 2...</td>\n      <td>1010001100111000000001111111111</td>\n    </tr>\n    <tr>\n      <th>2</th>\n      <td>24.0</td>\n      <td>[[01, 9, 2013-07-01 09:00:00-04:00], [01, 10, ...</td>\n      <td>1111111111101110000111011111111</td>\n    </tr>\n    <tr>\n      <th>3</th>\n      <td>26.0</td>\n      <td>[[01, 14, 2013-07-01 14:00:00-04:00], [01, 19,...</td>\n      <td>1111111111101111111111110111111</td>\n    </tr>\n    <tr>\n      <th>4</th>\n      <td>27.0</td>\n      <td>[[01, 15, 2013-07-01 15:00:00-04:00], [01, 16,...</td>\n      <td>1111111110101101111011110111110</td>\n    </tr>\n    <tr>\n      <th>5</th>\n      <td>25.0</td>\n      <td>[[01, 21, 2013-07-01 21:00:00-04:00], [01, 22,...</td>\n      <td>1111111111101111110111110101111</td>\n    </tr>\n    <tr>\n      <th>6</th>\n      <td>28.0</td>\n      <td>[[02, 37, 2013-07-02 13:00:00-04:00], [04, 84,...</td>\n      <td>0101111111101111111111110111000</td>\n    </tr>\n    <tr>\n      <th>7</th>\n      <td>29.0</td>\n      <td>[[03, 62, 2013-07-03 14:00:00-04:00], [03, 63,...</td>\n      <td>0011111111001111111101100000000</td>\n    </tr>\n    <tr>\n      <th>8</th>\n      <td>30.0</td>\n      <td>[[04, 86, 2013-07-04 14:00:00-04:00], [04, 87,...</td>\n      <td>0001111101000111111111100000000</td>\n    </tr>\n    <tr>\n      <th>9</th>\n      <td>31.0</td>\n      <td>[[04, 88, 2013-07-04 16:00:00-04:00], [05, 112...</td>\n      <td>0001111001000111110110000000000</td>\n    </tr>\n    <tr>\n      <th>10</th>\n      <td>32.0</td>\n      <td>[[06, 133, 2013-07-06 13:00:00-04:00], [06, 13...</td>\n      <td>0000010000000011111100000000000</td>\n    </tr>\n    <tr>\n      <th>11</th>\n      <td>21.0</td>\n      <td>[[07, 165, 2013-07-07 21:00:00-04:00], [07, 16...</td>\n      <td>0000001100011000000000001111101</td>\n    </tr>\n    <tr>\n      <th>12</th>\n      <td>20.0</td>\n      <td>[[12, 267, 2013-07-12 03:00:00-04:00], [12, 26...</td>\n      <td>0000000000011000000000001011111</td>\n    </tr>\n    <tr>\n      <th>13</th>\n      <td>19.0</td>\n      <td>[[12, 269, 2013-07-12 05:00:00-04:00], [12, 27...</td>\n      <td>0000000000010000000000001100111</td>\n    </tr>\n    <tr>\n      <th>14</th>\n      <td>33.0</td>\n      <td>[[15, 350, 2013-07-15 14:00:00-04:00], [15, 35...</td>\n      <td>0000000000000011111100000000000</td>\n    </tr>\n    <tr>\n      <th>15</th>\n      <td>34.0</td>\n      <td>[[15, 351, 2013-07-15 15:00:00-04:00], [15, 35...</td>\n      <td>0000000000000010011000000000000</td>\n    </tr>\n    <tr>\n      <th>16</th>\n      <td>35.0</td>\n      <td>[[18, 422, 2013-07-18 14:00:00-04:00], [18, 42...</td>\n      <td>0000000000000000011000000000000</td>\n    </tr>\n    <tr>\n      <th>17</th>\n      <td>18.0</td>\n      <td>[[25, 579, 2013-07-25 03:00:00-04:00], [25, 58...</td>\n      <td>0000000000000000000000001100110</td>\n    </tr>\n    <tr>\n      <th>18</th>\n      <td>17.0</td>\n      <td>[[25, 580, 2013-07-25 04:00:00-04:00], [25, 58...</td>\n      <td>0000000000000000000000001100110</td>\n    </tr>\n    <tr>\n      <th>19</th>\n      <td>16.0</td>\n      <td>[[25, 582, 2013-07-25 06:00:00-04:00], [30, 70...</td>\n      <td>0000000000000000000000001000010</td>\n    </tr>\n    <tr>\n      <th>20</th>\n      <td>15.0</td>\n      <td>[[25, 583, 2013-07-25 07:00:00-04:00], [25, 58...</td>\n      <td>0000000000000000000000001000000</td>\n    </tr>\n  </tbody>\n</table>\n</div>"
     },
     "execution_count": 20,
     "metadata": {},
     "output_type": "execute_result"
    }
   ],
   "source": [
    "df_dev"
   ],
   "metadata": {
    "collapsed": false,
    "pycharm": {
     "name": "#%%\n"
    }
   }
  },
  {
   "cell_type": "code",
   "execution_count": 21,
   "outputs": [
    {
     "name": "stdout",
     "output_type": "stream",
     "text": [
      "    Event                            TemporalSeqAndIntervals  \\\n",
      "0    23.0  [[01, 0, 2013-07-01 00:00:00-04:00], [01, 1, 2...   \n",
      "1    22.0  [[01, 2, 2013-07-01 02:00:00-04:00], [01, 3, 2...   \n",
      "2    24.0  [[01, 9, 2013-07-01 09:00:00-04:00], [01, 10, ...   \n",
      "3    26.0  [[01, 14, 2013-07-01 14:00:00-04:00], [01, 19,...   \n",
      "4    27.0  [[01, 15, 2013-07-01 15:00:00-04:00], [01, 16,...   \n",
      "5    25.0  [[01, 21, 2013-07-01 21:00:00-04:00], [01, 22,...   \n",
      "6    28.0  [[02, 37, 2013-07-02 13:00:00-04:00], [04, 84,...   \n",
      "7    29.0  [[03, 62, 2013-07-03 14:00:00-04:00], [03, 63,...   \n",
      "8    30.0  [[04, 86, 2013-07-04 14:00:00-04:00], [04, 87,...   \n",
      "9    31.0  [[04, 88, 2013-07-04 16:00:00-04:00], [05, 112...   \n",
      "10   32.0  [[06, 133, 2013-07-06 13:00:00-04:00], [06, 13...   \n",
      "11   21.0  [[07, 165, 2013-07-07 21:00:00-04:00], [07, 16...   \n",
      "12   20.0  [[12, 267, 2013-07-12 03:00:00-04:00], [12, 26...   \n",
      "13   19.0  [[12, 269, 2013-07-12 05:00:00-04:00], [12, 27...   \n",
      "14   33.0  [[15, 350, 2013-07-15 14:00:00-04:00], [15, 35...   \n",
      "\n",
      "                             Bitmap  \n",
      "0   1111101111111010000011111111111  \n",
      "1   1010001100111000000001111111111  \n",
      "2   1111111111101110000111011111111  \n",
      "3   1111111111101111111111110111111  \n",
      "4   1111111110101101111011110111110  \n",
      "5   1111111111101111110111110101111  \n",
      "6   0101111111101111111111110111000  \n",
      "7   0011111111001111111101100000000  \n",
      "8   0001111101000111111111100000000  \n",
      "9   0001111001000111110110000000000  \n",
      "10  0000010000000011111100000000000  \n",
      "11  0000001100011000000000001111101  \n",
      "12  0000000000011000000000001011111  \n",
      "13  0000000000010000000000001100111  \n",
      "14  0000000000000011111100000000000  \n"
     ]
    }
   ],
   "source": [
    "# Drop temperatures with less than threshold ocurrences\n",
    "threshold = 5\n",
    "index = 0\n",
    "delete_rows = []\n",
    "for entry in df_dev['Bitmap']:\n",
    "    ocurrence = 0\n",
    "    for bit in entry:\n",
    "        if bit == '1':\n",
    "            ocurrence = ocurrence + 1\n",
    "    if ocurrence < threshold:\n",
    "        delete_rows.append(index)\n",
    "    index = index + 1\n",
    "df_dev = df_dev.drop(delete_rows)\n",
    "print(df_dev)"
   ],
   "metadata": {
    "collapsed": false,
    "pycharm": {
     "name": "#%%\n"
    }
   }
  },
  {
   "cell_type": "code",
   "execution_count": 22,
   "id": "3a3a65a7-962d-449a-a570-12970a99eb16",
   "metadata": {
    "pycharm": {
     "name": "#%%\n"
    }
   },
   "outputs": [
    {
     "name": "stdout",
     "output_type": "stream",
     "text": [
      "    Event                            TemporalSeqAndIntervals  \\\n",
      "0    23.0  [[01, 0, 2013-07-01 00:00:00-04:00], [01, 1, 2...   \n",
      "1    22.0  [[01, 2, 2013-07-01 02:00:00-04:00], [01, 3, 2...   \n",
      "2    24.0  [[01, 9, 2013-07-01 09:00:00-04:00], [01, 10, ...   \n",
      "3    26.0  [[01, 14, 2013-07-01 14:00:00-04:00], [01, 19,...   \n",
      "4    27.0  [[01, 15, 2013-07-01 15:00:00-04:00], [01, 16,...   \n",
      "5    25.0  [[01, 21, 2013-07-01 21:00:00-04:00], [01, 22,...   \n",
      "6    28.0  [[02, 37, 2013-07-02 13:00:00-04:00], [04, 84,...   \n",
      "7    29.0  [[03, 62, 2013-07-03 14:00:00-04:00], [03, 63,...   \n",
      "8    30.0  [[04, 86, 2013-07-04 14:00:00-04:00], [04, 87,...   \n",
      "9    31.0  [[04, 88, 2013-07-04 16:00:00-04:00], [05, 112...   \n",
      "10   32.0  [[06, 133, 2013-07-06 13:00:00-04:00], [06, 13...   \n",
      "11   21.0  [[07, 165, 2013-07-07 21:00:00-04:00], [07, 16...   \n",
      "12   20.0  [[12, 267, 2013-07-12 03:00:00-04:00], [12, 26...   \n",
      "13   19.0  [[12, 269, 2013-07-12 05:00:00-04:00], [12, 27...   \n",
      "14   33.0  [[15, 350, 2013-07-15 14:00:00-04:00], [15, 35...   \n",
      "\n",
      "                             Bitmap  \n",
      "0   1111101111111010000011111111111  \n",
      "1   1010001100111000000001111111111  \n",
      "2   1111111111101110000111011111111  \n",
      "3   1111111111101111111111110111111  \n",
      "4   1111111110101101111011110111110  \n",
      "5   1111111111101111110111110101111  \n",
      "6   0101111111101111111111110111000  \n",
      "7   0011111111001111111101100000000  \n",
      "8   0001111101000111111111100000000  \n",
      "9   0001111001000111110110000000000  \n",
      "10  0000010000000011111100000000000  \n",
      "11  0000001100011000000000001111101  \n",
      "12  0000000000011000000000001011111  \n",
      "13  0000000000010000000000001100111  \n",
      "14  0000000000000011111100000000000  \n"
     ]
    }
   ],
   "source": [
    "# Drop temperatures with less than threshold ocurrences\n",
    "threshold = 5\n",
    "index = 0\n",
    "delete_rows = []\n",
    "for entry in df_dev['Bitmap']:\n",
    "    ocurrence = 0\n",
    "    for bit in entry:\n",
    "        if bit == '1':\n",
    "            ocurrence = ocurrence + 1\n",
    "    if ocurrence < threshold:\n",
    "        delete_rows.append(index)\n",
    "    index = index + 1\n",
    "df_dev = df_dev.drop(delete_rows)\n",
    "print(df_dev)"
   ]
  }
 ],
 "metadata": {
  "kernelspec": {
   "display_name": "Python 3 (ipykernel)",
   "language": "python",
   "name": "python3"
  },
  "language_info": {
   "codemirror_mode": {
    "name": "ipython",
    "version": 3
   },
   "file_extension": ".py",
   "mimetype": "text/x-python",
   "name": "python",
   "nbconvert_exporter": "python",
   "pygments_lexer": "ipython3",
   "version": "3.9.12"
  }
 },
 "nbformat": 4,
 "nbformat_minor": 5
}