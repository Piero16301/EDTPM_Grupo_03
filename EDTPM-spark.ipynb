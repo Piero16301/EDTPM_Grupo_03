{
 "cells": [
  {
   "cell_type": "code",
   "execution_count": 1,
   "id": "4b3a5290",
   "metadata": {},
   "outputs": [],
   "source": [
    "import pyspark\n",
    "from pyspark.sql import SparkSession"
   ]
  },
  {
   "cell_type": "code",
   "execution_count": 2,
   "id": "57ddcb2e",
   "metadata": {},
   "outputs": [
    {
     "name": "stdout",
     "output_type": "stream",
     "text": [
      "22/07/06 22:26:52 WARN Utils: Your hostname, indhira resolves to a loopback address: 127.0.1.1; using 192.168.100.7 instead (on interface wlp2s0)\n",
      "22/07/06 22:26:52 WARN Utils: Set SPARK_LOCAL_IP if you need to bind to another address\n"
     ]
    },
    {
     "name": "stderr",
     "output_type": "stream",
     "text": [
      "Setting default log level to \"WARN\".\n",
      "To adjust logging level use sc.setLogLevel(newLevel). For SparkR, use setLogLevel(newLevel).\n"
     ]
    },
    {
     "name": "stdout",
     "output_type": "stream",
     "text": [
      "22/07/06 22:26:55 WARN NativeCodeLoader: Unable to load native-hadoop library for your platform... using builtin-java classes where applicable\n"
     ]
    }
   ],
   "source": [
    "spark = SparkSession.builder.appName('pre').getOrCreate()"
   ]
  },
  {
   "cell_type": "code",
   "execution_count": 158,
   "id": "e19ba183",
   "metadata": {},
   "outputs": [],
   "source": [
    "df = spark.read.option('header', 'true').option('inferSchema', 'true').csv('../n/OutEnv-hour.csv')"
   ]
  },
  {
   "cell_type": "code",
   "execution_count": 159,
   "id": "6ff34920",
   "metadata": {},
   "outputs": [
    {
     "data": {
      "text/plain": [
       "8761"
      ]
     },
     "execution_count": 159,
     "metadata": {},
     "output_type": "execute_result"
    }
   ],
   "source": [
    "df.count()"
   ]
  },
  {
   "cell_type": "code",
   "execution_count": 160,
   "id": "42d896eb",
   "metadata": {},
   "outputs": [],
   "source": [
    "df = df.na.drop(subset=[\"Timestamp\",\"OutEnv_OutdoorAmbTemp\"])\n",
    "df_rdd = df.rdd"
   ]
  },
  {
   "cell_type": "code",
   "execution_count": 167,
   "id": "29de77de",
   "metadata": {},
   "outputs": [
    {
     "data": {
      "text/plain": [
       "8672"
      ]
     },
     "execution_count": 167,
     "metadata": {},
     "output_type": "execute_result"
    }
   ],
   "source": [
    "df.count()"
   ]
  },
  {
   "cell_type": "code",
   "execution_count": 163,
   "id": "1844ccc4",
   "metadata": {},
   "outputs": [],
   "source": [
    "from pyspark.sql import Row\n",
    "def pydf_to_str(row, col):\n",
    "    rd = row.asDict()\n",
    "    rd[col] = str(rd[col])[0:19]\n",
    "    nrow = Row(**rd)\n",
    "    return nrow\n",
    "def pydf_to_int(row, col):\n",
    "    rd = row.asDict()\n",
    "    rd[col] = round(rd[col],0)\n",
    "    nrow = Row(**rd)\n",
    "    return nrow\n"
   ]
  },
  {
   "cell_type": "code",
   "execution_count": 168,
   "id": "78c3c89b",
   "metadata": {},
   "outputs": [],
   "source": [
    "df_rdd = df_rdd.map(lambda x:pydf_to_str(x, 'Timestamp'))\n",
    "df_rdd = df_rdd.filter(lambda x:x['Timestamp'] >= '2013-07-01').filter(lambda x:x['Timestamp'] <'2013-08-01')"
   ]
  },
  {
   "cell_type": "code",
   "execution_count": 170,
   "id": "5852918b",
   "metadata": {
    "scrolled": true
   },
   "outputs": [
    {
     "data": {
      "text/plain": [
       "[Row(Timestamp='2013-07-01 00:00:00', OutEnv_OutdoorAmbTemp=22.756409988485963, OutEnv_RooftopWindDirection=175.28333333333333, OutEnv_RooftopWindSpeed=1.8133333333333332)]"
      ]
     },
     "execution_count": 170,
     "metadata": {},
     "output_type": "execute_result"
    }
   ],
   "source": [
    "df_rdd.take(1)"
   ]
  },
  {
   "cell_type": "code",
   "execution_count": 171,
   "id": "586490bc",
   "metadata": {},
   "outputs": [],
   "source": [
    "df_rdd = df_rdd.map(lambda x:pydf_to_int(x, 'OutEnv_OutdoorAmbTemp'))"
   ]
  },
  {
   "cell_type": "code",
   "execution_count": 172,
   "id": "9a59fc2c",
   "metadata": {},
   "outputs": [
    {
     "data": {
      "text/plain": [
       "[Row(Timestamp='2013-07-01 00:00:00', OutEnv_OutdoorAmbTemp=23.0, OutEnv_RooftopWindDirection=175.28333333333333, OutEnv_RooftopWindSpeed=1.8133333333333332)]"
      ]
     },
     "execution_count": 172,
     "metadata": {},
     "output_type": "execute_result"
    }
   ],
   "source": [
    "df_rdd.take(1)"
   ]
  },
  {
   "cell_type": "code",
   "execution_count": 173,
   "id": "2e4fa635",
   "metadata": {},
   "outputs": [],
   "source": [
    "import math\n",
    "df_rdd2 = df_rdd.map(lambda x: \n",
    "    (x[1], int(str(x[0])[8:10]))\n",
    ")\n",
    "df_rdd2.collect()"
   ]
  },
  {
   "cell_type": "code",
   "execution_count": 217,
   "id": "1ea18b8f",
   "metadata": {},
   "outputs": [
    {
     "data": {
      "text/plain": [
       "[(23.0, <pyspark.resultiterable.ResultIterable at 0x7f97de711cd0>),\n",
       " (22.0, <pyspark.resultiterable.ResultIterable at 0x7f97de667b20>),\n",
       " (24.0, <pyspark.resultiterable.ResultIterable at 0x7f97de667f10>),\n",
       " (26.0, <pyspark.resultiterable.ResultIterable at 0x7f97de6678e0>),\n",
       " (27.0, <pyspark.resultiterable.ResultIterable at 0x7f97de667fd0>),\n",
       " (25.0, <pyspark.resultiterable.ResultIterable at 0x7f97df85db80>),\n",
       " (28.0, <pyspark.resultiterable.ResultIterable at 0x7f97df85d700>),\n",
       " (29.0, <pyspark.resultiterable.ResultIterable at 0x7f97df85da60>),\n",
       " (30.0, <pyspark.resultiterable.ResultIterable at 0x7f97df85d340>),\n",
       " (31.0, <pyspark.resultiterable.ResultIterable at 0x7f97df85d9a0>),\n",
       " (32.0, <pyspark.resultiterable.ResultIterable at 0x7f97df85d2b0>),\n",
       " (21.0, <pyspark.resultiterable.ResultIterable at 0x7f97df85dd90>),\n",
       " (20.0, <pyspark.resultiterable.ResultIterable at 0x7f97df85dc10>),\n",
       " (19.0, <pyspark.resultiterable.ResultIterable at 0x7f97de661850>),\n",
       " (33.0, <pyspark.resultiterable.ResultIterable at 0x7f97de6616a0>),\n",
       " (34.0, <pyspark.resultiterable.ResultIterable at 0x7f97de661430>),\n",
       " (35.0, <pyspark.resultiterable.ResultIterable at 0x7f97de661a60>),\n",
       " (18.0, <pyspark.resultiterable.ResultIterable at 0x7f97de661280>),\n",
       " (17.0, <pyspark.resultiterable.ResultIterable at 0x7f97de661970>),\n",
       " (16.0, <pyspark.resultiterable.ResultIterable at 0x7f97de661b80>),\n",
       " (15.0, <pyspark.resultiterable.ResultIterable at 0x7f97de661160>)]"
      ]
     },
     "execution_count": 217,
     "metadata": {},
     "output_type": "execute_result"
    }
   ],
   "source": [
    "df_rdd3 = df_rdd2.groupByKey()\n",
    "df_rdd3.collect()"
   ]
  },
  {
   "cell_type": "code",
   "execution_count": 218,
   "id": "1c965703",
   "metadata": {},
   "outputs": [
    {
     "data": {
      "text/plain": [
       "[(23.0,\n",
       "  {1,\n",
       "   2,\n",
       "   3,\n",
       "   4,\n",
       "   5,\n",
       "   7,\n",
       "   8,\n",
       "   9,\n",
       "   10,\n",
       "   11,\n",
       "   12,\n",
       "   13,\n",
       "   15,\n",
       "   21,\n",
       "   22,\n",
       "   23,\n",
       "   24,\n",
       "   25,\n",
       "   26,\n",
       "   27,\n",
       "   28,\n",
       "   29,\n",
       "   30,\n",
       "   31},\n",
       "  '000000000000000000000000000000'),\n",
       " (22.0,\n",
       "  {1, 3, 7, 8, 11, 12, 13, 22, 23, 24, 25, 26, 27, 28, 29, 30, 31},\n",
       "  '000000000000000000000000000000'),\n",
       " (24.0,\n",
       "  {1,\n",
       "   2,\n",
       "   3,\n",
       "   4,\n",
       "   5,\n",
       "   6,\n",
       "   7,\n",
       "   8,\n",
       "   9,\n",
       "   10,\n",
       "   11,\n",
       "   13,\n",
       "   14,\n",
       "   15,\n",
       "   20,\n",
       "   21,\n",
       "   22,\n",
       "   24,\n",
       "   25,\n",
       "   26,\n",
       "   27,\n",
       "   28,\n",
       "   29,\n",
       "   30,\n",
       "   31},\n",
       "  '000000000000000000000000000000'),\n",
       " (26.0,\n",
       "  {1,\n",
       "   2,\n",
       "   3,\n",
       "   4,\n",
       "   5,\n",
       "   6,\n",
       "   8,\n",
       "   9,\n",
       "   10,\n",
       "   11,\n",
       "   13,\n",
       "   14,\n",
       "   15,\n",
       "   16,\n",
       "   17,\n",
       "   18,\n",
       "   19,\n",
       "   20,\n",
       "   21,\n",
       "   22,\n",
       "   23,\n",
       "   24,\n",
       "   26,\n",
       "   27,\n",
       "   28,\n",
       "   29,\n",
       "   30,\n",
       "   31},\n",
       "  '000000000000000000000000000000'),\n",
       " (27.0,\n",
       "  {1,\n",
       "   2,\n",
       "   3,\n",
       "   4,\n",
       "   5,\n",
       "   6,\n",
       "   7,\n",
       "   8,\n",
       "   9,\n",
       "   11,\n",
       "   13,\n",
       "   14,\n",
       "   15,\n",
       "   16,\n",
       "   17,\n",
       "   18,\n",
       "   19,\n",
       "   21,\n",
       "   22,\n",
       "   23,\n",
       "   24,\n",
       "   26,\n",
       "   27,\n",
       "   28,\n",
       "   29,\n",
       "   30},\n",
       "  '000000000000000000000000000000'),\n",
       " (25.0,\n",
       "  {1,\n",
       "   2,\n",
       "   3,\n",
       "   4,\n",
       "   5,\n",
       "   6,\n",
       "   7,\n",
       "   8,\n",
       "   9,\n",
       "   10,\n",
       "   11,\n",
       "   13,\n",
       "   14,\n",
       "   15,\n",
       "   16,\n",
       "   17,\n",
       "   18,\n",
       "   20,\n",
       "   21,\n",
       "   22,\n",
       "   23,\n",
       "   24,\n",
       "   26,\n",
       "   28,\n",
       "   29,\n",
       "   30,\n",
       "   31},\n",
       "  '000000000000000000000000000000'),\n",
       " (28.0,\n",
       "  {2,\n",
       "   4,\n",
       "   5,\n",
       "   6,\n",
       "   7,\n",
       "   8,\n",
       "   9,\n",
       "   10,\n",
       "   11,\n",
       "   13,\n",
       "   14,\n",
       "   15,\n",
       "   16,\n",
       "   17,\n",
       "   19,\n",
       "   20,\n",
       "   21,\n",
       "   22,\n",
       "   23,\n",
       "   24,\n",
       "   26,\n",
       "   27,\n",
       "   28},\n",
       "  '000000000000000000000000000000'),\n",
       " (29.0,\n",
       "  {3, 4, 5, 6, 7, 8, 9, 10, 13, 14, 15, 16, 17, 18, 19, 20, 22, 23},\n",
       "  '000000000000000000000000000000'),\n",
       " (30.0,\n",
       "  {4, 5, 6, 7, 8, 10, 14, 15, 16, 17, 18, 19, 20, 21, 22, 23},\n",
       "  '000000000000000000000000000000'),\n",
       " (31.0,\n",
       "  {4, 5, 6, 7, 10, 14, 15, 16, 17, 18, 20, 21},\n",
       "  '000000000000000000000000000000'),\n",
       " (32.0, {6, 15, 16, 17, 18, 19, 20}, '000000000000000000000000000000'),\n",
       " (21.0,\n",
       "  {7, 8, 12, 13, 24, 25, 26, 27, 28, 29, 30, 31},\n",
       "  '000000000000000000000000000000'),\n",
       " (20.0, {12, 13, 25, 27, 28, 29, 30, 31}, '000000000000000000000000000000'),\n",
       " (19.0, {12, 25, 26, 28, 29, 31}, '000000000000000000000000000000'),\n",
       " (33.0, {15, 16, 17, 18, 19, 20}, '000000000000000000000000000000'),\n",
       " (34.0, {15, 18, 19}, '000000000000000000000000000000'),\n",
       " (35.0, {18, 19}, '000000000000000000000000000000'),\n",
       " (18.0, {25, 26, 29, 30}, '000000000000000000000000000000'),\n",
       " (17.0, {25, 26, 29, 30}, '000000000000000000000000000000'),\n",
       " (16.0, {25, 30}, '000000000000000000000000000000'),\n",
       " (15.0, {25}, '000000000000000000000000000000')]"
      ]
     },
     "execution_count": 218,
     "metadata": {},
     "output_type": "execute_result"
    }
   ],
   "source": [
    "df_rdd3 = df_rdd3.map(lambda x : (x[0], set(x[1]), 30*\"0\"))\n",
    "df_rdd3.collect()"
   ]
  },
  {
   "cell_type": "code",
   "execution_count": 219,
   "id": "915086cf",
   "metadata": {},
   "outputs": [],
   "source": [
    "def make_bitmap(x):\n",
    "    s = list(31*\"0\")\n",
    "    for i in x:\n",
    "        s[i-1] = \"1\"\n",
    "    return \"\".join(s)"
   ]
  },
  {
   "cell_type": "code",
   "execution_count": 220,
   "id": "a3b0bb9f",
   "metadata": {},
   "outputs": [
    {
     "data": {
      "text/plain": [
       "[(23.0,\n",
       "  {1,\n",
       "   2,\n",
       "   3,\n",
       "   4,\n",
       "   5,\n",
       "   7,\n",
       "   8,\n",
       "   9,\n",
       "   10,\n",
       "   11,\n",
       "   12,\n",
       "   13,\n",
       "   15,\n",
       "   21,\n",
       "   22,\n",
       "   23,\n",
       "   24,\n",
       "   25,\n",
       "   26,\n",
       "   27,\n",
       "   28,\n",
       "   29,\n",
       "   30,\n",
       "   31},\n",
       "  '1111101111111010000011111111111'),\n",
       " (22.0,\n",
       "  {1, 3, 7, 8, 11, 12, 13, 22, 23, 24, 25, 26, 27, 28, 29, 30, 31},\n",
       "  '1010001100111000000001111111111'),\n",
       " (24.0,\n",
       "  {1,\n",
       "   2,\n",
       "   3,\n",
       "   4,\n",
       "   5,\n",
       "   6,\n",
       "   7,\n",
       "   8,\n",
       "   9,\n",
       "   10,\n",
       "   11,\n",
       "   13,\n",
       "   14,\n",
       "   15,\n",
       "   20,\n",
       "   21,\n",
       "   22,\n",
       "   24,\n",
       "   25,\n",
       "   26,\n",
       "   27,\n",
       "   28,\n",
       "   29,\n",
       "   30,\n",
       "   31},\n",
       "  '1111111111101110000111011111111'),\n",
       " (26.0,\n",
       "  {1,\n",
       "   2,\n",
       "   3,\n",
       "   4,\n",
       "   5,\n",
       "   6,\n",
       "   8,\n",
       "   9,\n",
       "   10,\n",
       "   11,\n",
       "   13,\n",
       "   14,\n",
       "   15,\n",
       "   16,\n",
       "   17,\n",
       "   18,\n",
       "   19,\n",
       "   20,\n",
       "   21,\n",
       "   22,\n",
       "   23,\n",
       "   24,\n",
       "   26,\n",
       "   27,\n",
       "   28,\n",
       "   29,\n",
       "   30,\n",
       "   31},\n",
       "  '1111110111101111111111110111111'),\n",
       " (27.0,\n",
       "  {1,\n",
       "   2,\n",
       "   3,\n",
       "   4,\n",
       "   5,\n",
       "   6,\n",
       "   7,\n",
       "   8,\n",
       "   9,\n",
       "   11,\n",
       "   13,\n",
       "   14,\n",
       "   15,\n",
       "   16,\n",
       "   17,\n",
       "   18,\n",
       "   19,\n",
       "   21,\n",
       "   22,\n",
       "   23,\n",
       "   24,\n",
       "   26,\n",
       "   27,\n",
       "   28,\n",
       "   29,\n",
       "   30},\n",
       "  '1111111110101111111011110111110'),\n",
       " (25.0,\n",
       "  {1,\n",
       "   2,\n",
       "   3,\n",
       "   4,\n",
       "   5,\n",
       "   6,\n",
       "   7,\n",
       "   8,\n",
       "   9,\n",
       "   10,\n",
       "   11,\n",
       "   13,\n",
       "   14,\n",
       "   15,\n",
       "   16,\n",
       "   17,\n",
       "   18,\n",
       "   20,\n",
       "   21,\n",
       "   22,\n",
       "   23,\n",
       "   24,\n",
       "   26,\n",
       "   28,\n",
       "   29,\n",
       "   30,\n",
       "   31},\n",
       "  '1111111111101111110111110101111'),\n",
       " (28.0,\n",
       "  {2,\n",
       "   4,\n",
       "   5,\n",
       "   6,\n",
       "   7,\n",
       "   8,\n",
       "   9,\n",
       "   10,\n",
       "   11,\n",
       "   13,\n",
       "   14,\n",
       "   15,\n",
       "   16,\n",
       "   17,\n",
       "   19,\n",
       "   20,\n",
       "   21,\n",
       "   22,\n",
       "   23,\n",
       "   24,\n",
       "   26,\n",
       "   27,\n",
       "   28},\n",
       "  '0101111111101111101111110111000'),\n",
       " (29.0,\n",
       "  {3, 4, 5, 6, 7, 8, 9, 10, 13, 14, 15, 16, 17, 18, 19, 20, 22, 23},\n",
       "  '0011111111001111111101100000000'),\n",
       " (30.0,\n",
       "  {4, 5, 6, 7, 8, 10, 14, 15, 16, 17, 18, 19, 20, 21, 22, 23},\n",
       "  '0001111101000111111111100000000'),\n",
       " (31.0,\n",
       "  {4, 5, 6, 7, 10, 14, 15, 16, 17, 18, 20, 21},\n",
       "  '0001111001000111110110000000000'),\n",
       " (32.0, {6, 15, 16, 17, 18, 19, 20}, '0000010000000011111100000000000'),\n",
       " (21.0,\n",
       "  {7, 8, 12, 13, 24, 25, 26, 27, 28, 29, 30, 31},\n",
       "  '0000001100011000000000011111111'),\n",
       " (20.0, {12, 13, 25, 27, 28, 29, 30, 31}, '0000000000011000000000001011111'),\n",
       " (19.0, {12, 25, 26, 28, 29, 31}, '0000000000010000000000001101101'),\n",
       " (33.0, {15, 16, 17, 18, 19, 20}, '0000000000000011111100000000000'),\n",
       " (34.0, {15, 18, 19}, '0000000000000010011000000000000'),\n",
       " (35.0, {18, 19}, '0000000000000000011000000000000'),\n",
       " (18.0, {25, 26, 29, 30}, '0000000000000000000000001100110'),\n",
       " (17.0, {25, 26, 29, 30}, '0000000000000000000000001100110'),\n",
       " (16.0, {25, 30}, '0000000000000000000000001000010'),\n",
       " (15.0, {25}, '0000000000000000000000001000000')]"
      ]
     },
     "execution_count": 220,
     "metadata": {},
     "output_type": "execute_result"
    }
   ],
   "source": [
    "df_rdd3 = df_rdd3.map(lambda x:(x[0], x[1], make_bitmap(x[1])))\n",
    "df_rdd3.collect()"
   ]
  }
 ],
 "metadata": {
  "kernelspec": {
   "display_name": "Python 3 (ipykernel)",
   "language": "python",
   "name": "python3"
  },
  "language_info": {
   "codemirror_mode": {
    "name": "ipython",
    "version": 3
   },
   "file_extension": ".py",
   "mimetype": "text/x-python",
   "name": "python",
   "nbconvert_exporter": "python",
   "pygments_lexer": "ipython3",
   "version": "3.8.10"
  }
 },
 "nbformat": 4,
 "nbformat_minor": 5
}
